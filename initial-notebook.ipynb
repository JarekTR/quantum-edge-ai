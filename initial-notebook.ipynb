{
 "cells": [
  {
   "cell_type": "code",
   "execution_count": 21,
   "id": "6b949487-dc59-469e-9ce2-78a3a6228d48",
   "metadata": {},
   "outputs": [],
   "source": [
    "import pandas as pd"
   ]
  },
  {
   "cell_type": "code",
   "execution_count": 22,
   "id": "c81170c3-e96d-4359-9694-e834e3d8b1d5",
   "metadata": {},
   "outputs": [],
   "source": [
    "# Direct Kernel Set Training Data\n",
    "dks_train_1 = pd.read_csv('data/Direct_Kernel_Set_I_Training.csv')\n",
    "dks_train_2 = pd.read_csv('data/Direct_Kernel_Set_II_Training.csv')\n",
    "dks_train_3 = pd.read_csv('data/Direct_Kernel_Set_III_Training.csv')\n",
    "\n",
    "# Direct Kernel Set Classifcation Data\n",
    "dks_class_1 = pd.read_csv('data/Direct_Kernel_Set_I_Classifications.csv')\n",
    "dks_class_2 = pd.read_csv('data/Direct_Kernel_Set_II_Classifications.csv')\n",
    "\n",
    "# Direct Kernel Set Classication Results Only Data\n",
    "dks_results_1 = pd.read_csv('data/Direct_Kernel_Set_I_Classifications_ResultsOnly.csv')\n",
    "dks_results_2 = pd.read_csv('data/Direct_Kernel_Set_II_Classifications_ResultsOnly.csv')\n",
    "dks_results_3 = pd.read_csv('data/Direct_Kernel_Set_III_Classifications_ResultsOnly.csv')"
   ]
  },
  {
   "cell_type": "code",
   "execution_count": 23,
   "id": "2108fa21-0de4-4c86-b719-5086109d6154",
   "metadata": {},
   "outputs": [],
   "source": [
    "# Variational Set 1 Training Data\n",
    "var_train_1d0 = pd.read_csv('data/Variational_Set_I_d0_Training.csv')\n",
    "var_train_1d1 = pd.read_csv('data/Variational_Set_I_d1_Training.csv')\n",
    "var_train_1d2 = pd.read_csv('data/Variational_Set_I_d2_Training.csv')\n",
    "var_train_1d3 = pd.read_csv('data/Variational_Set_I_d3_Training.csv')\n",
    "var_train_1d4 = pd.read_csv('data/Variational_Set_I_d4_Training.csv')\n",
    "\n",
    "\n",
    "# Variational Set 2 Training Data\n",
    "var_train_2d0 = pd.read_csv('data/Variational_Set_II_d0_Training.csv')\n",
    "var_train_2d1 = pd.read_csv('data/Variational_Set_II_d1_Training.csv')\n",
    "var_train_2d2 = pd.read_csv('data/Variational_Set_II_d2_Training.csv')\n",
    "var_train_2d3 = pd.read_csv('data/Variational_Set_II_d3_Training.csv')\n",
    "var_train_2d4 = pd.read_csv('data/Variational_Set_II_d4_Training.csv')\n",
    "\n",
    "\n",
    "# Variational Set 3 Training Data\n",
    "var_train_2d0 = pd.read_csv('data/Variational_Set_III_d0_Training.csv')\n",
    "var_train_2d1 = pd.read_csv('data/Variational_Set_III_d1_Training.csv')\n",
    "var_train_2d2 = pd.read_csv('data/Variational_Set_III_d2_Training.csv')\n",
    "var_train_2d3 = pd.read_csv('data/Variational_Set_III_d3_Training.csv')\n",
    "var_train_2d4 = pd.read_csv('data/Variational_Set_III_d4_Training.csv')\n",
    "\n",
    "# Variational Set 1 Classification Results Only Data\n",
    "var_class_results_1d0 = pd.read_csv('data/Variational_Set_I_d0_Classifications_ResultsOnly.csv')\n",
    "var_class_results_1d1 = pd.read_csv('data/Variational_Set_I_d1_Classifications_ResultsOnly.csv')\n",
    "var_class_results_1d2 = pd.read_csv('data/Variational_Set_I_d2_Classifications_ResultsOnly.csv')\n",
    "var_class_results_1d3 = pd.read_csv('data/Variational_Set_I_d3_Classifications_ResultsOnly.csv')\n",
    "var_class_results_1d4 = pd.read_csv('data/Variational_Set_I_d4_Classifications_ResultsOnly.csv')\n",
    "\n",
    "# Variational Set 2 Classification Results Only Data\n",
    "var_class_results_2d0 = pd.read_csv('data/Variational_Set_II_d0_Classifications_ResultsOnly.csv')\n",
    "var_class_results_2d1 = pd.read_csv('data/Variational_Set_II_d1_Classifications_ResultsOnly.csv')\n",
    "var_class_results_2d2 = pd.read_csv('data/Variational_Set_II_d2_Classifications_ResultsOnly.csv')\n",
    "var_class_results_2d3 = pd.read_csv('data/Variational_Set_II_d3_Classifications_ResultsOnly.csv')\n",
    "var_class_results_2d4 = pd.read_csv('data/Variational_Set_II_d4_Classifications_ResultsOnly.csv')\n",
    "\n",
    "# Variational Set 3 Classification Results Only Data\n",
    "var_class_results_3d0 = pd.read_csv('data/Variational_Set_III_d0_Classifications_ResultsOnly.csv')\n",
    "var_class_results_3d1 = pd.read_csv('data/Variational_Set_III_d1_Classifications_ResultsOnly.csv')\n",
    "var_class_results_3d2 = pd.read_csv('data/Variational_Set_III_d2_Classifications_ResultsOnly.csv')\n",
    "var_class_results_3d3 = pd.read_csv('data/Variational_Set_III_d3_Classifications_ResultsOnly.csv')\n",
    "var_class_results_3d4 = pd.read_csv('data/Variational_Set_III_d4_Classifications_ResultsOnly.csv')"
   ]
  },
  {
   "cell_type": "code",
   "execution_count": null,
   "id": "7fdba19e-edeb-4b22-96e5-33cf3c9cb16d",
   "metadata": {},
   "outputs": [],
   "source": []
  }
 ],
 "metadata": {
  "kernelspec": {
   "display_name": "Python 3 (ipykernel)",
   "language": "python",
   "name": "python3"
  },
  "language_info": {
   "codemirror_mode": {
    "name": "ipython",
    "version": 3
   },
   "file_extension": ".py",
   "mimetype": "text/x-python",
   "name": "python",
   "nbconvert_exporter": "python",
   "pygments_lexer": "ipython3",
   "version": "3.8.10"
  }
 },
 "nbformat": 4,
 "nbformat_minor": 5
}
