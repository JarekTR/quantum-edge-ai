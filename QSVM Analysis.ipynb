{
 "cells": [
  {
   "cell_type": "code",
   "execution_count": 1,
   "id": "1ae7260c",
   "metadata": {},
   "outputs": [],
   "source": [
    "import time\n",
    "\n",
    "import pandas as pd\n",
    "import matplotlib.pyplot as plt\n",
    "import numpy as np\n",
    "\n",
    "import tensorflow as tf\n",
    "from tensorflow import keras\n",
    "\n",
    "from qiskit import BasicAer\n",
    "from qiskit.circuit.library import ZZFeatureMap\n",
    "from qiskit.utils import QuantumInstance, algorithm_globals\n",
    "from qiskit.aqua.algorithms import QSVM\n",
    "from qiskit.aqua import QuantumInstance\n",
    "from qiskit_machine_learning.kernels import QuantumKernel\n",
    "from qiskit_machine_learning.datasets import ad_hoc_data\n",
    "from qiskit_machine_learning.algorithms import QSVC"
   ]
  },
  {
   "cell_type": "markdown",
   "id": "5897a5b5",
   "metadata": {},
   "source": [
    "Loading Datasets"
   ]
  },
  {
   "cell_type": "code",
   "execution_count": 2,
   "id": "02940e07",
   "metadata": {},
   "outputs": [],
   "source": [
    "# Direct Kernel Set Training Data\n",
    "dks_train_1 = pd.read_csv('data/Direct_Kernel_Set_I_Training.csv')\n",
    "\n",
    "# Direct Kernel Set Classifcation Data\n",
    "dks_class_1 = pd.read_csv('data/Direct_Kernel_Set_I_Classifications.csv')\n",
    "\n",
    "x1_train = dks_class_1.iloc[:, 1:3]\n",
    "y1_train = dks_class_1.iloc[:, 3]\n",
    "\n",
    "x1_test = dks_train_1.iloc[:, 1:3]\n",
    "y1_test = dks_train_1.iloc[:, 3]"
   ]
  },
  {
   "cell_type": "code",
   "execution_count": 3,
   "id": "24dc2c89",
   "metadata": {},
   "outputs": [],
   "source": [
    "x2_train, y2_train, x2_test, y2_test = ad_hoc_data(training_size = 80, test_size = 20, n=2, gap = 0.2, one_hot = False)"
   ]
  },
  {
   "cell_type": "code",
   "execution_count": 10,
   "id": "3534bc1a",
   "metadata": {},
   "outputs": [
    {
     "data": {
      "text/plain": [
       "array([[  0,   0,   0,  26, 253, 205,   0,   0,   0,   0,   0,   0,   0,\n",
       "          0,   0],\n",
       "       [  0,   0,   0, 237, 252, 253, 253,  57,   0,   0,   0,   0,   0,\n",
       "          0,   0],\n",
       "       [  0,   0,   0,   0,   0,   0,   0,   0, 253,   0,   0,   0,   0,\n",
       "         96,   0],\n",
       "       [  0,   0,   0, 253,   0,   0,   0,   0,   0,   0,   0,   0,   0,\n",
       "          0,   0],\n",
       "       [  0,   0,   0,   0, 253, 190, 252, 232,   0,   0,   0,   0,   0,\n",
       "         42,   0],\n",
       "       [  0,   0,   0,   7, 224, 252, 128,   0,   0,   0,   0,   0,   0,\n",
       "          0,   0],\n",
       "       [  0,   0,   0,   0,   0, 253,   0,   0,   0,   0,   0,   0,   0,\n",
       "          0,   0],\n",
       "       [  0,   0,   0, 253, 252,   0,   0,   0,   0,   0,   0,   0,   0,\n",
       "          0,   0],\n",
       "       [  0,   0,   0,   0,   0, 254,   0,   0,   0,   0,   0,   0,   0,\n",
       "          0,   0],\n",
       "       [  0,   0,   0,   0,   0, 253,   0,   0,   0,   0,   0,   0,   0,\n",
       "          0,   0]], dtype=uint8)"
      ]
     },
     "execution_count": 10,
     "metadata": {},
     "output_type": "execute_result"
    }
   ],
   "source": [
    "(x3_train, y3_train), (x3_test, y3_test) = keras.datasets.mnist.load_data()\n",
    "x3_train = x3_train.reshape((60000, 28*28))\n",
    "x3_test = x3_test.reshape((-1, 28*28))\n",
    "x3_train.shape\n",
    "num_dims = 15\n",
    "idx = list(range(0, 28*28, int(28*28 / num_dims) + 1))\n",
    "x3_train[:10, idx]"
   ]
  },
  {
   "cell_type": "markdown",
   "id": "c36ee8cf",
   "metadata": {},
   "source": [
    "Training, Timing, and Evaluating Datasets"
   ]
  },
  {
   "cell_type": "code",
   "execution_count": 5,
   "id": "b3587982",
   "metadata": {},
   "outputs": [
    {
     "name": "stdout",
     "output_type": "stream",
     "text": [
      "Training time:1.5510003566741943[sec]\n",
      "Test time:0.7499992847442627[sec]\n",
      "0.9\n"
     ]
    }
   ],
   "source": [
    "# First dataset (from paper)\n",
    "random_seed = 10598\n",
    "feature_map = ZZFeatureMap(feature_dimension=2,\n",
    "                                 reps=1, entanglement='full')\n",
    "backend = QuantumInstance(BasicAer.get_backend('statevector_simulator'), shots=1,\n",
    "                                seed_simulator=random_seed, seed_transpiler=random_seed)\n",
    "kernel = QuantumKernel(feature_map=feature_map, quantum_instance=backend)\n",
    "\n",
    "qsvc = QSVC(quantum_kernel=kernel)\n",
    "start_time = time.time()\n",
    "qsvc.fit(x1_train, y1_train)#train\n",
    "train_time = time.time() - start_time\n",
    "qsvc_score = qsvc.score(x1_test, y1_test) #predict\n",
    "test_time = time.time() - start_time - train_time\n",
    "print (\"Training time:{0}\".format(train_time) + \"[sec]\")\n",
    "print (\"Test time:{0}\".format(test_time) + \"[sec]\")\n",
    "\n",
    "print(qsvc_score)"
   ]
  },
  {
   "cell_type": "code",
   "execution_count": 6,
   "id": "09f6c3cc",
   "metadata": {},
   "outputs": [
    {
     "name": "stdout",
     "output_type": "stream",
     "text": [
      "Training time:0.4049994945526123[sec]\n",
      "Test time:0.27468252182006836[sec]\n",
      "0.9\n"
     ]
    }
   ],
   "source": [
    "# Second dataset (ad hoc data)\n",
    "random_seed = 10598\n",
    "feature_map = ZZFeatureMap(feature_dimension=2,\n",
    "                                 reps=1, entanglement='full')\n",
    "backend = QuantumInstance(BasicAer.get_backend('statevector_simulator'), shots=1,\n",
    "                                seed_simulator=random_seed, seed_transpiler=random_seed)\n",
    "kernel = QuantumKernel(feature_map=feature_map, quantum_instance=backend)\n",
    "\n",
    "qsvc = QSVC(quantum_kernel=kernel)\n",
    "start_time = time.time()\n",
    "qsvc.fit(x2_train, y2_train)#train\n",
    "train_time = time.time() - start_time\n",
    "qsvc_score = qsvc.score(x2_test, y2_test) #predict\n",
    "test_time = time.time() - start_time - train_time\n",
    "print (\"Training time:{0}\".format(train_time) + \"[sec]\")\n",
    "print (\"Test time:{0}\".format(test_time) + \"[sec]\")\n",
    "\n",
    "print(qsvc_score)"
   ]
  },
  {
   "cell_type": "code",
   "execution_count": 11,
   "id": "40d75955",
   "metadata": {},
   "outputs": [
    {
     "name": "stdout",
     "output_type": "stream",
     "text": [
      "Training time:2.281454563140869[sec]\n",
      "Test time:3.9150776863098145[sec]\n",
      "0.2\n"
     ]
    }
   ],
   "source": [
    "# Third dataset (mnist dataset)\n",
    "random_seed = 10598\n",
    "feature_map = ZZFeatureMap(feature_dimension=num_dims,\n",
    "                                 reps=1, entanglement='full')\n",
    "backend = QuantumInstance(BasicAer.get_backend('statevector_simulator'), shots=1,\n",
    "                                seed_simulator=random_seed, seed_transpiler=random_seed)\n",
    "kernel = QuantumKernel(feature_map=feature_map, quantum_instance=backend)\n",
    "\n",
    "qsvc = QSVC(quantum_kernel=kernel)\n",
    "start_time = time.time()\n",
    "qsvc.fit(x3_train[:10, idx], y3_train[:10])#train\n",
    "train_time = time.time() - start_time\n",
    "qsvc_score = qsvc.score(x3_test[:10, idx], y3_test[:10]) #predict\n",
    "test_time = time.time() - start_time - train_time\n",
    "print (\"Training time:{0}\".format(train_time) + \"[sec]\")\n",
    "print (\"Test time:{0}\".format(test_time) + \"[sec]\")\n",
    "\n",
    "print(qsvc_score)"
   ]
  },
  {
   "cell_type": "code",
   "execution_count": null,
   "id": "fe869118",
   "metadata": {},
   "outputs": [],
   "source": []
  }
 ],
 "metadata": {
  "kernelspec": {
   "display_name": "Python 3",
   "language": "python",
   "name": "python3"
  },
  "language_info": {
   "codemirror_mode": {
    "name": "ipython",
    "version": 3
   },
   "file_extension": ".py",
   "mimetype": "text/x-python",
   "name": "python",
   "nbconvert_exporter": "python",
   "pygments_lexer": "ipython3",
   "version": "3.7.1"
  }
 },
 "nbformat": 4,
 "nbformat_minor": 5
}
