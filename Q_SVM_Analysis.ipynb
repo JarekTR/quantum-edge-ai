{
 "cells": [
  {
   "cell_type": "code",
   "execution_count": 19,
   "id": "52638675",
   "metadata": {},
   "outputs": [],
   "source": [
    "import time\n",
    "\n",
    "import pandas as pd\n",
    "import matplotlib.pyplot as plt\n",
    "import numpy as np\n",
    "\n",
    "import tensorflow as tf\n",
    "from tensorflow import keras\n",
    "\n",
    "from qiskit import BasicAer\n",
    "from qiskit.circuit.library import ZZFeatureMap\n",
    "from qiskit.utils import QuantumInstance, algorithm_globals\n",
    "from qiskit.aqua.algorithms import QSVM\n",
    "from qiskit.aqua import QuantumInstance\n",
    "from qiskit_machine_learning.kernels import QuantumKernel\n",
    "from qiskit_machine_learning.datasets import ad_hoc_data\n",
    "from qiskit_machine_learning.algorithms import QSVC\n",
    "\n",
    "from sklearn.preprocessing import StandardScaler, MinMaxScaler\n",
    "from sklearn.decomposition import PCA"
   ]
  },
  {
   "cell_type": "markdown",
   "id": "4261f5a1",
   "metadata": {},
   "source": [
    "Loading Datasets"
   ]
  },
  {
   "cell_type": "code",
   "execution_count": 2,
   "id": "87b22e90",
   "metadata": {},
   "outputs": [],
   "source": [
    "# Direct Kernel Set Training Data\n",
    "dks_train_1 = pd.read_csv('data/Direct_Kernel_Set_I_Training.csv')\n",
    "\n",
    "# Direct Kernel Set Classifcation Data\n",
    "dks_class_1 = pd.read_csv('data/Direct_Kernel_Set_I_Classifications.csv')\n",
    "\n",
    "x1_train = dks_class_1.iloc[:, 1:3]\n",
    "y1_train = dks_class_1.iloc[:, 3]\n",
    "\n",
    "x1_test = dks_train_1.iloc[:, 1:3]\n",
    "y1_test = dks_train_1.iloc[:, 3]"
   ]
  },
  {
   "cell_type": "code",
   "execution_count": 3,
   "id": "085b040c",
   "metadata": {},
   "outputs": [],
   "source": [
    "x2_train, y2_train, x2_test, y2_test = ad_hoc_data(training_size = 80, test_size = 20, n=2, gap = 0.2, one_hot = False)"
   ]
  },
  {
   "cell_type": "code",
   "execution_count": 66,
   "id": "6c1f95ad",
   "metadata": {},
   "outputs": [
    {
     "name": "stdout",
     "output_type": "stream",
     "text": [
      "[0.08939126 0.05811813 0.04367666 0.02961373 0.02748219 0.02472024\n",
      " 0.01852863 0.01558034 0.01494015 0.01389285]\n"
     ]
    }
   ],
   "source": [
    "(x3_train, y3_train), (x3_test, y3_test) = keras.datasets.mnist.load_data()\n",
    "x3_train = x3_train.reshape((60000, 28*28))\n",
    "x3_test = x3_test.reshape((-1, 28*28))\n",
    "x3_train.shape\n",
    "num_dims = 10\n",
    "#idx = list(range(0, 28*28, int(28*28 / num_dims) + 1))\n",
    "#x3_train[:10, idx]\n",
    "\n",
    "def limit_data(x, y, nums):\n",
    "    idx = (y != y)\n",
    "    for i in nums:\n",
    "        idx = idx | (y == i)\n",
    "    return x[idx], y[idx]\n",
    "\n",
    "x3_train, y3_train = limit_data(x3_train, y3_train, [3, 6])\n",
    "x3_test, y3_test = limit_data(x3_test, y3_test, [3, 6])\n",
    "y3_train = (y3_train == 3).astype(int)\n",
    "y3_test = (y3_test == 3).astype(int)\n",
    "\n",
    "scaler = StandardScaler().fit(x3_train)\n",
    "x3_train = scaler.transform(x3_train)\n",
    "x3_test = scaler.transform(x3_test)\n",
    "\n",
    "pca = PCA(n_components=num_dims).fit(x3_train)\n",
    "x3_train = pca.transform(x3_train)\n",
    "x3_test = pca.transform(x3_test)\n",
    "print(pca.explained_variance_ratio_)\n",
    "\n",
    "samples = np.append(x3_train, x3_test, axis=0)\n",
    "minmax_scale = MinMaxScaler((-1, 1)).fit(samples)\n",
    "x3_train = minmax_scale.transform(x3_train)\n",
    "x3_test = minmax_scale.transform(x3_test)"
   ]
  },
  {
   "cell_type": "markdown",
   "id": "4556d91a",
   "metadata": {},
   "source": [
    "Training, Timing, and Evaluating Datasets"
   ]
  },
  {
   "cell_type": "code",
   "execution_count": 41,
   "id": "8a9ebdf8",
   "metadata": {},
   "outputs": [
    {
     "name": "stdout",
     "output_type": "stream",
     "text": [
      "Training time:1.476001501083374[sec]\n",
      "Test time:1.3499977588653564[sec]\n",
      "1.0\n"
     ]
    }
   ],
   "source": [
    "# First dataset (from paper)\n",
    "random_seed = 10598\n",
    "feature_map = ZZFeatureMap(feature_dimension=2,\n",
    "                                 reps=2, entanglement='full')\n",
    "backend = QuantumInstance(BasicAer.get_backend('statevector_simulator'), shots=1,\n",
    "                                seed_simulator=random_seed, seed_transpiler=random_seed)\n",
    "kernel = QuantumKernel(feature_map=feature_map, quantum_instance=backend)\n",
    "\n",
    "qsvc = QSVC(quantum_kernel=kernel)\n",
    "start_time = time.time()\n",
    "qsvc.fit(x1_train, y1_train)#train\n",
    "train_time = time.time() - start_time\n",
    "qsvc_score = qsvc.score(x1_test, y1_test) #predict\n",
    "test_time = time.time() - start_time - train_time\n",
    "print (\"Training time:{0}\".format(train_time) + \"[sec]\")\n",
    "print (\"Test time:{0}\".format(test_time) + \"[sec]\")\n",
    "\n",
    "print(qsvc_score)\n",
    "print(kernel.feature_map.num_qubits)"
   ]
  },
  {
   "cell_type": "code",
   "execution_count": 55,
   "id": "06b5e52c",
   "metadata": {},
   "outputs": [
    {
     "name": "stdout",
     "output_type": "stream",
     "text": [
      "Training time:2.312774896621704[sec]\n",
      "Test time:0.4010016918182373[sec]\n",
      "1.0\n",
      "2\n"
     ]
    }
   ],
   "source": [
    "# Second dataset (ad hoc data)\n",
    "random_seed = 10598\n",
    "feature_map = ZZFeatureMap(feature_dimension=2,\n",
    "                                 reps=2, entanglement='full')\n",
    "backend = QuantumInstance(BasicAer.get_backend('statevector_simulator'), shots=1,\n",
    "                                seed_simulator=random_seed, seed_transpiler=random_seed)\n",
    "kernel = QuantumKernel(feature_map=feature_map, quantum_instance=backend)\n",
    "\n",
    "qsvc = QSVC(quantum_kernel=kernel)\n",
    "start_time = time.time()\n",
    "qsvc.fit(x2_train, y2_train)#train\n",
    "train_time = time.time() - start_time\n",
    "qsvc_score = qsvc.score(x2_test, y2_test) #predict\n",
    "test_time = time.time() - start_time - train_time\n",
    "print (\"Training time:{0}\".format(train_time) + \"[sec]\")\n",
    "print (\"Test time:{0}\".format(test_time) + \"[sec]\")\n",
    "\n",
    "print(qsvc_score)\n",
    "print(kernel.feature_map.num_qubits)"
   ]
  },
  {
   "cell_type": "code",
   "execution_count": 67,
   "id": "d4552116",
   "metadata": {},
   "outputs": [
    {
     "name": "stdout",
     "output_type": "stream",
     "text": [
      "Training time:14.850369453430176[sec]\n",
      "Test time:28.344998121261597[sec]\n",
      "0.9\n",
      "10\n"
     ]
    }
   ],
   "source": [
    "# Third dataset (mnist dataset)\n",
    "random_seed = 10598\n",
    "feature_map = ZZFeatureMap(feature_dimension=num_dims,\n",
    "                                 reps=1, entanglement='full')\n",
    "backend = QuantumInstance(BasicAer.get_backend('statevector_simulator'), shots=1,\n",
    "                                seed_simulator=random_seed, seed_transpiler=random_seed)\n",
    "kernel = QuantumKernel(feature_map=feature_map, quantum_instance=backend)\n",
    "\n",
    "qsvc = QSVC(quantum_kernel=kernel)\n",
    "start_time = time.time()\n",
    "qsvc.fit(x3_train[:100], y3_train[:100])#train\n",
    "train_time = time.time() - start_time\n",
    "qsvc_score = qsvc.score(x3_test[:100], y3_test[:100]) #predict\n",
    "test_time = time.time() - start_time - train_time\n",
    "print (\"Training time:{0}\".format(train_time) + \"[sec]\")\n",
    "print (\"Test time:{0}\".format(test_time) + \"[sec]\")\n",
    "\n",
    "print(qsvc_score)\n",
    "print(kernel.feature_map.num_qubits)"
   ]
  },
  {
   "cell_type": "code",
   "execution_count": null,
   "id": "a145b87c",
   "metadata": {},
   "outputs": [],
   "source": []
  }
 ],
 "metadata": {
  "kernelspec": {
   "display_name": "Python 3",
   "language": "python",
   "name": "python3"
  },
  "language_info": {
   "codemirror_mode": {
    "name": "ipython",
    "version": 3
   },
   "file_extension": ".py",
   "mimetype": "text/x-python",
   "name": "python",
   "nbconvert_exporter": "python",
   "pygments_lexer": "ipython3",
   "version": "3.7.1"
  }
 },
 "nbformat": 4,
 "nbformat_minor": 5
}
