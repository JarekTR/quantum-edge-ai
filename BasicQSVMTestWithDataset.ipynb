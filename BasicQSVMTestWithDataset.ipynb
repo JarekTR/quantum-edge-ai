{
 "cells": [
  {
   "cell_type": "code",
   "execution_count": 1,
   "metadata": {},
   "outputs": [
    {
     "ename": "ModuleNotFoundError",
     "evalue": "No module named 'qiskit.aqua'",
     "output_type": "error",
     "traceback": [
      "\u001b[1;31m---------------------------------------------------------------------------\u001b[0m",
      "\u001b[1;31mModuleNotFoundError\u001b[0m                       Traceback (most recent call last)",
      "\u001b[1;32m<ipython-input-1-9ce8ff77e257>\u001b[0m in \u001b[0;36m<module>\u001b[1;34m\u001b[0m\n\u001b[0;32m      1\u001b[0m \u001b[1;32mfrom\u001b[0m \u001b[0mqiskit\u001b[0m\u001b[1;33m.\u001b[0m\u001b[0mcircuit\u001b[0m\u001b[1;33m.\u001b[0m\u001b[0mlibrary\u001b[0m \u001b[1;32mimport\u001b[0m \u001b[0mZZFeatureMap\u001b[0m\u001b[1;33m\u001b[0m\u001b[1;33m\u001b[0m\u001b[0m\n\u001b[0;32m      2\u001b[0m \u001b[1;32mfrom\u001b[0m \u001b[0mqiskit\u001b[0m \u001b[1;32mimport\u001b[0m \u001b[0mBasicAer\u001b[0m\u001b[1;33m\u001b[0m\u001b[1;33m\u001b[0m\u001b[0m\n\u001b[1;32m----> 3\u001b[1;33m \u001b[1;32mfrom\u001b[0m \u001b[0mqiskit\u001b[0m\u001b[1;33m.\u001b[0m\u001b[0maqua\u001b[0m\u001b[1;33m.\u001b[0m\u001b[0malgorithms\u001b[0m \u001b[1;32mimport\u001b[0m \u001b[0mQSVM\u001b[0m\u001b[1;33m\u001b[0m\u001b[1;33m\u001b[0m\u001b[0m\n\u001b[0m\u001b[0;32m      4\u001b[0m \u001b[1;32mfrom\u001b[0m \u001b[0mqiskit\u001b[0m\u001b[1;33m.\u001b[0m\u001b[0maqua\u001b[0m \u001b[1;32mimport\u001b[0m \u001b[0mQuantumInstance\u001b[0m\u001b[1;33m\u001b[0m\u001b[1;33m\u001b[0m\u001b[0m\n",
      "\u001b[1;31mModuleNotFoundError\u001b[0m: No module named 'qiskit.aqua'"
     ]
    }
   ],
   "source": [
    "from qiskit.circuit.library import ZZFeatureMap\n",
    "from qiskit import BasicAer\n",
    "from qiskit.aqua.algorithms import QSVM\n",
    "from qiskit.aqua import QuantumInstance\n"
   ]
  },
  {
   "cell_type": "code",
   "execution_count": null,
   "metadata": {},
   "outputs": [],
   "source": [
    "# Direct Kernel Set Training Data\n",
    "dks_train_1 = pd.read_csv('data/Direct_Kernel_Set_I_Training.csv')\n",
    "dks_train_2 = pd.read_csv('data/Direct_Kernel_Set_II_Training.csv')\n",
    "dks_train_3 = pd.read_csv('data/Direct_Kernel_Set_III_Training.csv')\n",
    "\n",
    "# Direct Kernel Set Classifcation Data\n",
    "dks_class_1 = pd.read_csv('data/Direct_Kernel_Set_I_Classifications.csv')\n",
    "dks_class_2 = pd.read_csv('data/Direct_Kernel_Set_II_Classifications.csv')\n",
    "\n",
    "# Direct Kernel Set Classication Results Only Data\n",
    "dks_results_1 = pd.read_csv('data/Direct_Kernel_Set_I_Classifications_ResultsOnly.csv')\n",
    "dks_results_2 = pd.read_csv('data/Direct_Kernel_Set_II_Classifications_ResultsOnly.csv')\n",
    "dks_results_3 = pd.read_csv('data/Direct_Kernel_Set_III_Classifications_ResultsOnly.csv')"
   ]
  },
  {
   "cell_type": "code",
   "execution_count": 2,
   "metadata": {},
   "outputs": [
    {
     "ename": "NameError",
     "evalue": "name 'pd' is not defined",
     "output_type": "error",
     "traceback": [
      "\u001b[1;31m---------------------------------------------------------------------------\u001b[0m",
      "\u001b[1;31mNameError\u001b[0m                                 Traceback (most recent call last)",
      "\u001b[1;32m<ipython-input-2-38c804570d44>\u001b[0m in \u001b[0;36m<module>\u001b[1;34m\u001b[0m\n\u001b[0;32m      1\u001b[0m \u001b[1;31m# Variational Set 1 Training Data\u001b[0m\u001b[1;33m\u001b[0m\u001b[1;33m\u001b[0m\u001b[1;33m\u001b[0m\u001b[0m\n\u001b[1;32m----> 2\u001b[1;33m \u001b[0mvar_train_1d0\u001b[0m \u001b[1;33m=\u001b[0m \u001b[0mpd\u001b[0m\u001b[1;33m.\u001b[0m\u001b[0mread_csv\u001b[0m\u001b[1;33m(\u001b[0m\u001b[1;34m'data/Variational_Set_I_d0_Training.csv'\u001b[0m\u001b[1;33m)\u001b[0m\u001b[1;33m\u001b[0m\u001b[1;33m\u001b[0m\u001b[0m\n\u001b[0m\u001b[0;32m      3\u001b[0m \u001b[0mvar_train_1d1\u001b[0m \u001b[1;33m=\u001b[0m \u001b[0mpd\u001b[0m\u001b[1;33m.\u001b[0m\u001b[0mread_csv\u001b[0m\u001b[1;33m(\u001b[0m\u001b[1;34m'data/Variational_Set_I_d1_Training.csv'\u001b[0m\u001b[1;33m)\u001b[0m\u001b[1;33m\u001b[0m\u001b[1;33m\u001b[0m\u001b[0m\n\u001b[0;32m      4\u001b[0m \u001b[0mvar_train_1d2\u001b[0m \u001b[1;33m=\u001b[0m \u001b[0mpd\u001b[0m\u001b[1;33m.\u001b[0m\u001b[0mread_csv\u001b[0m\u001b[1;33m(\u001b[0m\u001b[1;34m'data/Variational_Set_I_d2_Training.csv'\u001b[0m\u001b[1;33m)\u001b[0m\u001b[1;33m\u001b[0m\u001b[1;33m\u001b[0m\u001b[0m\n\u001b[0;32m      5\u001b[0m \u001b[0mvar_train_1d3\u001b[0m \u001b[1;33m=\u001b[0m \u001b[0mpd\u001b[0m\u001b[1;33m.\u001b[0m\u001b[0mread_csv\u001b[0m\u001b[1;33m(\u001b[0m\u001b[1;34m'data/Variational_Set_I_d3_Training.csv'\u001b[0m\u001b[1;33m)\u001b[0m\u001b[1;33m\u001b[0m\u001b[1;33m\u001b[0m\u001b[0m\n",
      "\u001b[1;31mNameError\u001b[0m: name 'pd' is not defined"
     ]
    }
   ],
   "source": [
    "# Variational Set 1 Training Data\n",
    "var_train_1d0 = pd.read_csv('data/Variational_Set_I_d0_Training.csv')\n",
    "var_train_1d1 = pd.read_csv('data/Variational_Set_I_d1_Training.csv')\n",
    "var_train_1d2 = pd.read_csv('data/Variational_Set_I_d2_Training.csv')\n",
    "var_train_1d3 = pd.read_csv('data/Variational_Set_I_d3_Training.csv')\n",
    "var_train_1d4 = pd.read_csv('data/Variational_Set_I_d4_Training.csv')\n",
    "\n",
    "\n",
    "# Variational Set 2 Training Data\n",
    "var_train_2d0 = pd.read_csv('data/Variational_Set_II_d0_Training.csv')\n",
    "var_train_2d1 = pd.read_csv('data/Variational_Set_II_d1_Training.csv')\n",
    "var_train_2d2 = pd.read_csv('data/Variational_Set_II_d2_Training.csv')\n",
    "var_train_2d3 = pd.read_csv('data/Variational_Set_II_d3_Training.csv')\n",
    "var_train_2d4 = pd.read_csv('data/Variational_Set_II_d4_Training.csv')\n",
    "\n",
    "\n",
    "# Variational Set 3 Training Data\n",
    "var_train_2d0 = pd.read_csv('data/Variational_Set_III_d0_Training.csv')\n",
    "var_train_2d1 = pd.read_csv('data/Variational_Set_III_d1_Training.csv')\n",
    "var_train_2d2 = pd.read_csv('data/Variational_Set_III_d2_Training.csv')\n",
    "var_train_2d3 = pd.read_csv('data/Variational_Set_III_d3_Training.csv')\n",
    "var_train_2d4 = pd.read_csv('data/Variational_Set_III_d4_Training.csv')\n",
    "\n",
    "# Variational Set 1 Classification Results Only Data\n",
    "var_class_results_1d0 = pd.read_csv('data/Variational_Set_I_d0_Classifications_ResultsOnly.csv')\n",
    "var_class_results_1d1 = pd.read_csv('data/Variational_Set_I_d1_Classifications_ResultsOnly.csv')\n",
    "var_class_results_1d2 = pd.read_csv('data/Variational_Set_I_d2_Classifications_ResultsOnly.csv')\n",
    "var_class_results_1d3 = pd.read_csv('data/Variational_Set_I_d3_Classifications_ResultsOnly.csv')\n",
    "var_class_results_1d4 = pd.read_csv('data/Variational_Set_I_d4_Classifications_ResultsOnly.csv')\n",
    "\n",
    "# Variational Set 2 Classification Results Only Data\n",
    "var_class_results_2d0 = pd.read_csv('data/Variational_Set_II_d0_Classifications_ResultsOnly.csv')\n",
    "var_class_results_2d1 = pd.read_csv('data/Variational_Set_II_d1_Classifications_ResultsOnly.csv')\n",
    "var_class_results_2d2 = pd.read_csv('data/Variational_Set_II_d2_Classifications_ResultsOnly.csv')\n",
    "var_class_results_2d3 = pd.read_csv('data/Variational_Set_II_d3_Classifications_ResultsOnly.csv')\n",
    "var_class_results_2d4 = pd.read_csv('data/Variational_Set_II_d4_Classifications_ResultsOnly.csv')\n",
    "\n",
    "# Variational Set 3 Classification Results Only Data\n",
    "var_class_results_3d0 = pd.read_csv('data/Variational_Set_III_d0_Classifications_ResultsOnly.csv')\n",
    "var_class_results_3d1 = pd.read_csv('data/Variational_Set_III_d1_Classifications_ResultsOnly.csv')\n",
    "var_class_results_3d2 = pd.read_csv('data/Variational_Set_III_d2_Classifications_ResultsOnly.csv')\n",
    "var_class_results_3d3 = pd.read_csv('data/Variational_Set_III_d3_Classifications_ResultsOnly.csv')\n",
    "var_class_results_3d4 = pd.read_csv('data/Variational_Set_III_d4_Classifications_ResultsOnly.csv')"
   ]
  },
  {
   "cell_type": "code",
   "execution_count": null,
   "metadata": {},
   "outputs": [],
   "source": [
    "x_train = dks_class_1.iloc[idx, 1:3]\n",
    "y_train = dks_class_1.iloc[idx, 3]\n",
    "\n",
    "train_x = list(x_train.to_numpy())\n",
    "label_y = list(y_train.to_numpy())\n",
    "\n",
    "x_train = dks_class_1.iloc[idx, 1:3]\n",
    "y_train = dks_class_1.iloc[idx, 3]\n",
    "\n",
    "x_test = dks_train_1.iloc[:, 1:3]\n",
    "y_test = dks_train_1.iloc[:, 3]\n"
   ]
  },
  {
   "cell_type": "code",
   "execution_count": 4,
   "metadata": {},
   "outputs": [
    {
     "name": "stdout",
     "output_type": "stream",
     "text": [
      "Accuracy 1.0\n",
      "Classification Results ['A', 'B', 'B', 'B']\n"
     ]
    }
   ],
   "source": [
    "# training data\n",
    "train_input = {}\n",
    "for i_count,i in enumerate(label_y):\n",
    "    if i not in label_dic:\n",
    "        train_input[i] = [list(train_x[i_count])]        \n",
    "    else:\n",
    "        train_input[i].append(list(train_x[i_count]))\n",
    "print(train_input)\n",
    "\n",
    "# test data\n",
    "test_input = list(x_test.to_numpy())\n",
    "\n",
    "\n",
    "random_seed = 10598\n",
    "shots = 1024\n",
    "backend = BasicAer.get_backend('qasm_simulator')                   # s1\n",
    "feature_map = ZZFeatureMap(feature_dimension=2, reps=2)\n",
    "qsvm = QSVM(feature_map, train_input, train_input, test_input)     # s2\n",
    "qsvm.random_seed = random_seed\n",
    "quantum_instance = QuantumInstance(backend, shots=shots, seed_simulator=random_seed, seed_transpiler=random_seed)\n",
    "result = qsvm.run(quantum_instance)                                # s3\n",
    "print('Accuracy', result['testing_accuracy'])\n",
    "print('Classification Results', result['predicted_classes'])"
   ]
  },
  {
   "cell_type": "code",
   "execution_count": null,
   "metadata": {},
   "outputs": [],
   "source": []
  }
 ],
 "metadata": {
  "kernelspec": {
   "display_name": "Python 3",
   "language": "python",
   "name": "python3"
  },
  "language_info": {
   "codemirror_mode": {
    "name": "ipython",
    "version": 3
   },
   "file_extension": ".py",
   "mimetype": "text/x-python",
   "name": "python",
   "nbconvert_exporter": "python",
   "pygments_lexer": "ipython3",
   "version": "3.8.3"
  }
 },
 "nbformat": 4,
 "nbformat_minor": 5
}
