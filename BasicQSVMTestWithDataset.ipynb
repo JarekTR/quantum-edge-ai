{
 "cells": [
  {
   "cell_type": "code",
   "execution_count": 1,
   "id": "e2e899df",
   "metadata": {},
   "outputs": [],
   "source": [
    "from qiskit.circuit.library import ZZFeatureMap\n",
    "from qiskit import BasicAer\n",
    "from qiskit.aqua.algorithms import QSVM\n",
    "from qiskit.aqua import QuantumInstance\n",
    "import pandas as pd\n",
    "import matplotlib.pyplot as plt\n",
    "import numpy as np\n"
   ]
  },
  {
   "cell_type": "code",
   "execution_count": 2,
   "id": "fc66d2c4",
   "metadata": {},
   "outputs": [],
   "source": [
    "# Direct Kernel Set Training Data\n",
    "dks_train_1 = pd.read_csv('data/Direct_Kernel_Set_I_Training.csv')\n",
    "dks_train_2 = pd.read_csv('data/Direct_Kernel_Set_II_Training.csv')\n",
    "dks_train_3 = pd.read_csv('data/Direct_Kernel_Set_III_Training.csv')\n",
    "\n",
    "# Direct Kernel Set Classifcation Data\n",
    "dks_class_1 = pd.read_csv('data/Direct_Kernel_Set_I_Classifications.csv')\n",
    "dks_class_2 = pd.read_csv('data/Direct_Kernel_Set_II_Classifications.csv')\n",
    "\n",
    "# Direct Kernel Set Classication Results Only Data\n",
    "dks_results_1 = pd.read_csv('data/Direct_Kernel_Set_I_Classifications_ResultsOnly.csv')\n",
    "dks_results_2 = pd.read_csv('data/Direct_Kernel_Set_II_Classifications_ResultsOnly.csv')\n",
    "dks_results_3 = pd.read_csv('data/Direct_Kernel_Set_III_Classifications_ResultsOnly.csv')"
   ]
  },
  {
   "cell_type": "code",
   "execution_count": 3,
   "id": "9d6b1617",
   "metadata": {},
   "outputs": [],
   "source": [
    "# Variational Set 1 Training Data\n",
    "var_train_1d0 = pd.read_csv('data/Variational_Set_I_d0_Training.csv')\n",
    "var_train_1d1 = pd.read_csv('data/Variational_Set_I_d1_Training.csv')\n",
    "var_train_1d2 = pd.read_csv('data/Variational_Set_I_d2_Training.csv')\n",
    "var_train_1d3 = pd.read_csv('data/Variational_Set_I_d3_Training.csv')\n",
    "var_train_1d4 = pd.read_csv('data/Variational_Set_I_d4_Training.csv')\n",
    "\n",
    "\n",
    "# Variational Set 2 Training Data\n",
    "var_train_2d0 = pd.read_csv('data/Variational_Set_II_d0_Training.csv')\n",
    "var_train_2d1 = pd.read_csv('data/Variational_Set_II_d1_Training.csv')\n",
    "var_train_2d2 = pd.read_csv('data/Variational_Set_II_d2_Training.csv')\n",
    "var_train_2d3 = pd.read_csv('data/Variational_Set_II_d3_Training.csv')\n",
    "var_train_2d4 = pd.read_csv('data/Variational_Set_II_d4_Training.csv')\n",
    "\n",
    "\n",
    "# Variational Set 3 Training Data\n",
    "var_train_2d0 = pd.read_csv('data/Variational_Set_III_d0_Training.csv')\n",
    "var_train_2d1 = pd.read_csv('data/Variational_Set_III_d1_Training.csv')\n",
    "var_train_2d2 = pd.read_csv('data/Variational_Set_III_d2_Training.csv')\n",
    "var_train_2d3 = pd.read_csv('data/Variational_Set_III_d3_Training.csv')\n",
    "var_train_2d4 = pd.read_csv('data/Variational_Set_III_d4_Training.csv')\n",
    "\n",
    "# Variational Set 1 Classification Results Only Data\n",
    "var_class_results_1d0 = pd.read_csv('data/Variational_Set_I_d0_Classifications_ResultsOnly.csv')\n",
    "var_class_results_1d1 = pd.read_csv('data/Variational_Set_I_d1_Classifications_ResultsOnly.csv')\n",
    "var_class_results_1d2 = pd.read_csv('data/Variational_Set_I_d2_Classifications_ResultsOnly.csv')\n",
    "var_class_results_1d3 = pd.read_csv('data/Variational_Set_I_d3_Classifications_ResultsOnly.csv')\n",
    "var_class_results_1d4 = pd.read_csv('data/Variational_Set_I_d4_Classifications_ResultsOnly.csv')\n",
    "\n",
    "# Variational Set 2 Classification Results Only Data\n",
    "var_class_results_2d0 = pd.read_csv('data/Variational_Set_II_d0_Classifications_ResultsOnly.csv')\n",
    "var_class_results_2d1 = pd.read_csv('data/Variational_Set_II_d1_Classifications_ResultsOnly.csv')\n",
    "var_class_results_2d2 = pd.read_csv('data/Variational_Set_II_d2_Classifications_ResultsOnly.csv')\n",
    "var_class_results_2d3 = pd.read_csv('data/Variational_Set_II_d3_Classifications_ResultsOnly.csv')\n",
    "var_class_results_2d4 = pd.read_csv('data/Variational_Set_II_d4_Classifications_ResultsOnly.csv')\n",
    "\n",
    "# Variational Set 3 Classification Results Only Data\n",
    "var_class_results_3d0 = pd.read_csv('data/Variational_Set_III_d0_Classifications_ResultsOnly.csv')\n",
    "var_class_results_3d1 = pd.read_csv('data/Variational_Set_III_d1_Classifications_ResultsOnly.csv')\n",
    "var_class_results_3d2 = pd.read_csv('data/Variational_Set_III_d2_Classifications_ResultsOnly.csv')\n",
    "var_class_results_3d3 = pd.read_csv('data/Variational_Set_III_d3_Classifications_ResultsOnly.csv')\n",
    "var_class_results_3d4 = pd.read_csv('data/Variational_Set_III_d4_Classifications_ResultsOnly.csv')"
   ]
  },
  {
   "cell_type": "code",
   "execution_count": 4,
   "id": "976ea339",
   "metadata": {},
   "outputs": [],
   "source": [
    "x_train = dks_class_1.iloc[:, 1:3]\n",
    "y_train = dks_class_1.iloc[:, 3]\n",
    "\n",
    "train_x = list(x_train.to_numpy())\n",
    "label_y = list(y_train.to_numpy())\n",
    "\n",
    "x_train = dks_class_1.iloc[:, 1:3]\n",
    "y_train = dks_class_1.iloc[:, 3]\n",
    "\n",
    "x_test = dks_train_1.iloc[:, 1:3]\n",
    "y_test = dks_train_1.iloc[:, 3]\n"
   ]
  },
  {
   "cell_type": "code",
   "execution_count": 6,
   "id": "71e65656",
   "metadata": {},
   "outputs": [],
   "source": [
    "# training data\n",
    "train_input = {}\n",
    "for i_count,i in enumerate(label_y):\n",
    "    if i not in train_input:\n",
    "        train_input[i] = [list(train_x[i_count])]        \n",
    "    else:\n",
    "        train_input[i].append(list(train_x[i_count]))\n",
    "\n",
    "# test data\n",
    "test_input = list(x_test.to_numpy())\n",
    "\n",
    "\n",
    "random_seed = 10598\n",
    "shots = 1024\n",
    "#backend = BasicAer.get_backend('qasm_simulator')                   # s1\n",
    "#feature_map = ZZFeatureMap(feature_dimension=2, reps=2)\n",
    "#qsvm = QSVM(feature_map, train_input, train_input, test_input)     # s2\n",
    "#qsvm.random_seed = random_seed\n",
    "#quantum_instance = QuantumInstance(backend, shots=shots, seed_simulator=random_seed, seed_transpiler=random_seed)\n",
    "#result = qsvm.run(quantum_instance)                                # s3\n",
    "#print('Accuracy', result['testing_accuracy'])\n",
    "#print('Classification Results', result['predicted_classes'])"
   ]
  },
  {
   "cell_type": "code",
   "execution_count": 7,
   "id": "f885ccc5",
   "metadata": {},
   "outputs": [
    {
     "name": "stdout",
     "output_type": "stream",
     "text": [
      "elapsed_time:2.843477249145508[sec]\n",
      "0.9\n"
     ]
    }
   ],
   "source": [
    "from qiskit_machine_learning.kernels import QuantumKernel\n",
    "from qiskit_machine_learning.datasets import ad_hoc_data\n",
    "from qiskit.utils import QuantumInstance, algorithm_globals\n",
    "from qiskit_machine_learning.algorithms import QSVC\n",
    "adhoc_feature_map = ZZFeatureMap(feature_dimension=2,\n",
    "                                 reps=1, entanglement='linear')\n",
    "adhoc_backend = QuantumInstance(BasicAer.get_backend('statevector_simulator'), shots=1,\n",
    "                                seed_simulator=random_seed, seed_transpiler=random_seed)\n",
    "adhoc_kernel = QuantumKernel(feature_map=adhoc_feature_map, quantum_instance=adhoc_backend)\n",
    "import time\n",
    "qsvc = QSVC(quantum_kernel=adhoc_kernel)\n",
    "start = time.time()\n",
    "qsvc.fit(x_train, y_train)#train\n",
    "qsvc_score = qsvc.score(x_test, y_test) #predict\n",
    "elapsed_time = time.time() - start\n",
    "print (\"elapsed_time:{0}\".format(elapsed_time) + \"[sec]\")\n",
    "\n",
    "print(qsvc_score)"
   ]
  },
  {
   "cell_type": "code",
   "execution_count": null,
   "id": "47538a85",
   "metadata": {},
   "outputs": [],
   "source": []
  }
 ],
 "metadata": {
  "kernelspec": {
   "display_name": "Python 3 (ipykernel)",
   "language": "python",
   "name": "python3"
  },
  "language_info": {
   "codemirror_mode": {
    "name": "ipython",
    "version": 3
   },
   "file_extension": ".py",
   "mimetype": "text/x-python",
   "name": "python",
   "nbconvert_exporter": "python",
   "pygments_lexer": "ipython3",
   "version": "3.8.10"
  }
 },
 "nbformat": 4,
 "nbformat_minor": 5
}
